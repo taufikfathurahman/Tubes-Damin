{
 "cells": [
  {
   "cell_type": "code",
   "execution_count": 1,
   "metadata": {},
   "outputs": [],
   "source": [
    "import os\n",
    "import pandas as pd"
   ]
  },
  {
   "cell_type": "code",
   "execution_count": 2,
   "metadata": {},
   "outputs": [],
   "source": [
    "tbc_dir = os.path.join('Health_DataSet', 'Tuberculosis incidence (per 100,000 people).xlsx')\n",
    "u5_dir = os.path.join('Health_DataSet', 'Mortality rate, under-five (per 1,000 live births).xlsx')\n",
    "adl_dir = os.path.join('Health_DataSet', 'Mortality rate, male adult (per 1,000 people).xlsx')\n",
    "exp_dir = os.path.join('Health_DataSet', 'Current health expenditure (% of GDP).xlsx')"
   ]
  },
  {
   "cell_type": "code",
   "execution_count": 14,
   "metadata": {},
   "outputs": [],
   "source": [
    "tbc_cols = [0, 1, 2, 4, 6, 8, 10, 12, 14, 16]\n",
    "exp_cols = [0, 1, 2, 4, 6, 8, 10, 12, 14, 16]\n",
    "u5_cols = [0, 1, 2, 4, 6, 8, 10, 12, 14, 16, 18, 20]\n",
    "adl_cols = [0, 1, 2, 4, 6, 8, 10, 12, 14, 16, 18, 20]"
   ]
  },
  {
   "cell_type": "code",
   "execution_count": 15,
   "metadata": {},
   "outputs": [],
   "source": [
    "tbc_data = pd.read_excel(tbc_dir, \n",
    "                       sep=',',\n",
    "                       usecols=tbc_cols, \n",
    "                       na_values = ['..', 'n.a', 'NaN'])\n",
    "u5_data = pd.read_excel(u5_dir, \n",
    "                       sep=',',\n",
    "                      usecols=u5_cols, \n",
    "                      na_values = ['..', 'n.a', 'NaN'])\n",
    "adl_data = pd.read_excel(adl_dir, \n",
    "                       sep=',',\n",
    "                       usecols=adl_cols, \n",
    "                       na_values = ['..', 'n.a', 'NaN'])\n",
    "exp_data = pd.read_excel(exp_dir,  \n",
    "                       sep=',',\n",
    "                       usecols=exp_cols, \n",
    "                       na_values = ['..', 'n.a', 'NaN'])"
   ]
  },
  {
   "cell_type": "code",
   "execution_count": 20,
   "metadata": {},
   "outputs": [
    {
     "name": "stdout",
     "output_type": "stream",
     "text": [
      "HDI Rank (2017)    float64\n",
      "Country             object\n",
      "2000               float64\n",
      "2005               float64\n",
      "2010               float64\n",
      "2011               float64\n",
      "2012               float64\n",
      "2013               float64\n",
      "2014               float64\n",
      "2015               float64\n",
      "dtype: object\n",
      "HDI Rank (2017)    6\n",
      "Country            0\n",
      "2000               4\n",
      "2005               1\n",
      "2010               1\n",
      "2011               0\n",
      "2012               0\n",
      "2013               0\n",
      "2014               0\n",
      "2015               0\n",
      "dtype: int64\n",
      "(194, 10)\n"
     ]
    }
   ],
   "source": [
    "print(tbc_data.dtypes)\n",
    "print(tbc_data.isna().sum())\n",
    "print(tbc_data.shape)"
   ]
  },
  {
   "cell_type": "code",
   "execution_count": 21,
   "metadata": {},
   "outputs": [
    {
     "name": "stdout",
     "output_type": "stream",
     "text": [
      "HDI Rank (2017)    float64\n",
      "Country             object\n",
      "1990               float64\n",
      "1995               float64\n",
      "2000               float64\n",
      "2005               float64\n",
      "2010               float64\n",
      "2011               float64\n",
      "2012               float64\n",
      "2013               float64\n",
      "2014               float64\n",
      "2015               float64\n",
      "dtype: object\n",
      "HDI Rank (2017)    6\n",
      "Country            0\n",
      "1990               0\n",
      "1995               0\n",
      "2000               0\n",
      "2005               0\n",
      "2010               0\n",
      "2011               0\n",
      "2012               0\n",
      "2013               0\n",
      "2014               0\n",
      "2015               0\n",
      "dtype: int64\n",
      "(193, 12)\n"
     ]
    }
   ],
   "source": [
    "print(u5_data.dtypes)\n",
    "print(u5_data.isna().sum())\n",
    "print(u5_data.shape)"
   ]
  },
  {
   "cell_type": "code",
   "execution_count": 22,
   "metadata": {},
   "outputs": [
    {
     "name": "stdout",
     "output_type": "stream",
     "text": [
      "HDI Rank (2017)    float64\n",
      "Country             object\n",
      "1990               float64\n",
      "1995               float64\n",
      "2000                 int64\n",
      "2005               float64\n",
      "2010               float64\n",
      "2011               float64\n",
      "2012               float64\n",
      "2013               float64\n",
      "2014               float64\n",
      "2015               float64\n",
      "dtype: object\n",
      "HDI Rank (2017)     2\n",
      "Country             0\n",
      "1990                1\n",
      "1995                3\n",
      "2000                0\n",
      "2005                3\n",
      "2010                3\n",
      "2011                4\n",
      "2012                5\n",
      "2013                5\n",
      "2014                8\n",
      "2015               31\n",
      "dtype: int64\n",
      "(188, 12)\n"
     ]
    }
   ],
   "source": [
    "print(adl_data.dtypes)\n",
    "print(adl_data.isna().sum())\n",
    "print(adl_data.shape)"
   ]
  },
  {
   "cell_type": "code",
   "execution_count": 23,
   "metadata": {},
   "outputs": [
    {
     "name": "stdout",
     "output_type": "stream",
     "text": [
      "HDI Rank (2017)    float64\n",
      "Country             object\n",
      "2000               float64\n",
      "2005               float64\n",
      "2010               float64\n",
      "2011               float64\n",
      "2012               float64\n",
      "2013               float64\n",
      "2014               float64\n",
      "2015               float64\n",
      "dtype: object\n",
      "HDI Rank (2017)    4\n",
      "Country            0\n",
      "2000               5\n",
      "2005               2\n",
      "2010               2\n",
      "2011               2\n",
      "2012               1\n",
      "2013               2\n",
      "2014               2\n",
      "2015               2\n",
      "dtype: int64\n",
      "(188, 10)\n"
     ]
    }
   ],
   "source": [
    "print(exp_data.dtypes)\n",
    "print(exp_data.isna().sum())\n",
    "print(exp_data.shape)"
   ]
  },
  {
   "cell_type": "code",
   "execution_count": null,
   "metadata": {},
   "outputs": [],
   "source": []
  }
 ],
 "metadata": {
  "kernelspec": {
   "display_name": "Python 3",
   "language": "python",
   "name": "python3"
  },
  "language_info": {
   "codemirror_mode": {
    "name": "ipython",
    "version": 3
   },
   "file_extension": ".py",
   "mimetype": "text/x-python",
   "name": "python",
   "nbconvert_exporter": "python",
   "pygments_lexer": "ipython3",
   "version": "3.7.5"
  }
 },
 "nbformat": 4,
 "nbformat_minor": 2
}
