{
 "cells": [
  {
   "cell_type": "code",
   "execution_count": 2,
   "metadata": {},
   "outputs": [],
   "source": [
    "import os\n",
    "import pandas as pd\n",
    "import numpy as np\n",
    "import matplotlib.pyplot as plt\n",
    "from mpl_toolkits.mplot3d import Axes3D\n",
    "import seaborn as sns; sns.set()\n",
    "\n",
    "from sklearn.mixture import GaussianMixture\n",
    "\n",
    "%matplotlib inline"
   ]
  },
  {
   "cell_type": "markdown",
   "metadata": {},
   "source": [
    "## # Read Dataset"
   ]
  },
  {
   "cell_type": "code",
   "execution_count": 3,
   "metadata": {},
   "outputs": [],
   "source": [
    "tbc_dir = os.path.join('clean_dataset', 'Tuberculosis incidence (per 100,000 people).csv')\n",
    "u5_dir = os.path.join('clean_dataset', 'Mortality rate, under-five (per 1,000 live births).csv')\n",
    "adl_dir = os.path.join('clean_dataset', 'Mortality rate, male adult (per 1,000 people).csv')\n",
    "exp_dir = os.path.join('clean_dataset', 'Current health expenditure (% of GDP).csv')"
   ]
  },
  {
   "cell_type": "code",
   "execution_count": 4,
   "metadata": {},
   "outputs": [],
   "source": [
    "tbc_data = pd.read_csv(tbc_dir)\n",
    "u5_data = pd.read_csv(u5_dir)\n",
    "adl_data = pd.read_csv(adl_dir)\n",
    "exp_data = pd.read_csv(exp_dir)"
   ]
  },
  {
   "cell_type": "code",
   "execution_count": 5,
   "metadata": {
    "scrolled": true
   },
   "outputs": [
    {
     "data": {
      "text/html": [
       "<div>\n",
       "<style scoped>\n",
       "    .dataframe tbody tr th:only-of-type {\n",
       "        vertical-align: middle;\n",
       "    }\n",
       "\n",
       "    .dataframe tbody tr th {\n",
       "        vertical-align: top;\n",
       "    }\n",
       "\n",
       "    .dataframe thead th {\n",
       "        text-align: right;\n",
       "    }\n",
       "</style>\n",
       "<table border=\"1\" class=\"dataframe\">\n",
       "  <thead>\n",
       "    <tr style=\"text-align: right;\">\n",
       "      <th></th>\n",
       "      <th>Country</th>\n",
       "      <th>2000</th>\n",
       "      <th>2005</th>\n",
       "      <th>2010</th>\n",
       "      <th>2011</th>\n",
       "      <th>2012</th>\n",
       "      <th>2013</th>\n",
       "      <th>2014</th>\n",
       "      <th>2015</th>\n",
       "    </tr>\n",
       "  </thead>\n",
       "  <tbody>\n",
       "    <tr>\n",
       "      <th>0</th>\n",
       "      <td>Afghanistan</td>\n",
       "      <td>0.429076</td>\n",
       "      <td>0.385398</td>\n",
       "      <td>0.348142</td>\n",
       "      <td>0.341719</td>\n",
       "      <td>0.335296</td>\n",
       "      <td>0.330157</td>\n",
       "      <td>0.325019</td>\n",
       "      <td>0.319880</td>\n",
       "    </tr>\n",
       "    <tr>\n",
       "      <th>1</th>\n",
       "      <td>Albania</td>\n",
       "      <td>0.466826</td>\n",
       "      <td>0.410355</td>\n",
       "      <td>0.350119</td>\n",
       "      <td>0.331296</td>\n",
       "      <td>0.316237</td>\n",
       "      <td>0.312472</td>\n",
       "      <td>0.304943</td>\n",
       "      <td>0.301178</td>\n",
       "    </tr>\n",
       "    <tr>\n",
       "      <th>2</th>\n",
       "      <td>Algeria</td>\n",
       "      <td>0.464056</td>\n",
       "      <td>0.388173</td>\n",
       "      <td>0.338557</td>\n",
       "      <td>0.332719</td>\n",
       "      <td>0.326882</td>\n",
       "      <td>0.321045</td>\n",
       "      <td>0.318127</td>\n",
       "      <td>0.312289</td>\n",
       "    </tr>\n",
       "    <tr>\n",
       "      <th>3</th>\n",
       "      <td>Angola</td>\n",
       "      <td>0.456344</td>\n",
       "      <td>0.397064</td>\n",
       "      <td>0.343376</td>\n",
       "      <td>0.333310</td>\n",
       "      <td>0.323244</td>\n",
       "      <td>0.319888</td>\n",
       "      <td>0.316533</td>\n",
       "      <td>0.313177</td>\n",
       "    </tr>\n",
       "    <tr>\n",
       "      <th>4</th>\n",
       "      <td>Antigua and Barbuda</td>\n",
       "      <td>0.392588</td>\n",
       "      <td>0.372958</td>\n",
       "      <td>0.353329</td>\n",
       "      <td>0.348967</td>\n",
       "      <td>0.344605</td>\n",
       "      <td>0.340243</td>\n",
       "      <td>0.338062</td>\n",
       "      <td>0.333699</td>\n",
       "    </tr>\n",
       "  </tbody>\n",
       "</table>\n",
       "</div>"
      ],
      "text/plain": [
       "               Country      2000      2005      2010      2011      2012  \\\n",
       "0          Afghanistan  0.429076  0.385398  0.348142  0.341719  0.335296   \n",
       "1              Albania  0.466826  0.410355  0.350119  0.331296  0.316237   \n",
       "2              Algeria  0.464056  0.388173  0.338557  0.332719  0.326882   \n",
       "3               Angola  0.456344  0.397064  0.343376  0.333310  0.323244   \n",
       "4  Antigua and Barbuda  0.392588  0.372958  0.353329  0.348967  0.344605   \n",
       "\n",
       "       2013      2014      2015  \n",
       "0  0.330157  0.325019  0.319880  \n",
       "1  0.312472  0.304943  0.301178  \n",
       "2  0.321045  0.318127  0.312289  \n",
       "3  0.319888  0.316533  0.313177  \n",
       "4  0.340243  0.338062  0.333699  "
      ]
     },
     "execution_count": 5,
     "metadata": {},
     "output_type": "execute_result"
    }
   ],
   "source": [
    "adl_data.head()"
   ]
  },
  {
   "cell_type": "code",
   "execution_count": 8,
   "metadata": {},
   "outputs": [
    {
     "data": {
      "image/png": "[encoded data removed]",
      "text/plain": [
       "<Figure size 432x288 with 1 Axes>"
      ]
     },
     "metadata": {
      "needs_background": "light"
     },
     "output_type": "display_data"
    }
   ],
   "source": [
    "plt.scatter(adl_data['2000'], u5_data['2000'], c='r', s=40, cmap='viridis');\n",
    "plt.savefig('sebarandata.png')"
   ]
  },
  {
   "cell_type": "markdown",
   "metadata": {},
   "source": [
    "# Make Cluster"
   ]
  },
  {
   "cell_type": "code",
   "execution_count": 5,
   "metadata": {},
   "outputs": [],
   "source": [
    "X_2000 = pd.DataFrame({'tbc': tbc_data['2000'],'u5': u5_data['2000'],'adl': adl_data['2000']})\n",
    "y_2000 = tbc_data['Country']"
   ]
  },
  {
   "cell_type": "code",
   "execution_count": 6,
   "metadata": {},
   "outputs": [],
   "source": [
    "X_2005 = pd.DataFrame({'tbc': tbc_data['2005'],'u5': u5_data['2005'],'adl': adl_data['2005']})\n",
    "y_2005 = tbc_data['Country']"
   ]
  },
  {
   "cell_type": "code",
   "execution_count": 7,
   "metadata": {},
   "outputs": [],
   "source": [
    "X_2010 = pd.DataFrame({'tbc': tbc_data['2010'],'u5': u5_data['2010'],'adl': adl_data['2010']})\n",
    "y_2010 = tbc_data['Country']"
   ]
  },
  {
   "cell_type": "code",
   "execution_count": 8,
   "metadata": {},
   "outputs": [],
   "source": [
    "X_2011 = pd.DataFrame({'tbc': tbc_data['2011'],'u5': u5_data['2011'],'adl': adl_data['2011']})\n",
    "y_2011 = tbc_data['Country']"
   ]
  },
  {
   "cell_type": "code",
   "execution_count": 9,
   "metadata": {},
   "outputs": [],
   "source": [
    "X_2012 = pd.DataFrame({'tbc': tbc_data['2012'],'u5': u5_data['2012'],'adl': adl_data['2012']})\n",
    "y_2012 = tbc_data['Country']"
   ]
  },
  {
   "cell_type": "code",
   "execution_count": 10,
   "metadata": {},
   "outputs": [],
   "source": [
    "X_2013 = pd.DataFrame({'tbc': tbc_data['2013'],'u5': u5_data['2013'],'adl': adl_data['2013']})\n",
    "y_2013 = tbc_data['Country']"
   ]
  },
  {
   "cell_type": "code",
   "execution_count": 11,
   "metadata": {},
   "outputs": [],
   "source": [
    "X_2014 = pd.DataFrame({'tbc': tbc_data['2014'],'u5': u5_data['2014'],'adl': adl_data['2014']})\n",
    "y_2014 = tbc_data['Country']"
   ]
  },
  {
   "cell_type": "code",
   "execution_count": 12,
   "metadata": {},
   "outputs": [],
   "source": [
    "X_2015 = pd.DataFrame({'tbc': tbc_data['2015'],'u5': u5_data['2015'],'adl': adl_data['2015']})\n",
    "y_2015 = tbc_data['Country']"
   ]
  },
  {
   "cell_type": "code",
   "execution_count": 13,
   "metadata": {},
   "outputs": [],
   "source": [
    "gmm_2000 = GaussianMixture(n_components=2).fit(X_2000)\n",
    "labels_2000 = gmm_2000.predict(X_2000)\n",
    "\n",
    "gmm_2005 = GaussianMixture(n_components=2).fit(X_2005)\n",
    "labels_2005 = gmm_2005.predict(X_2005)\n",
    "\n",
    "gmm_2010 = GaussianMixture(n_components=2).fit(X_2010)\n",
    "labels_2010 = gmm_2010.predict(X_2010)\n",
    "\n",
    "gmm_2011 = GaussianMixture(n_components=2).fit(X_2011)\n",
    "labels_2011 = gmm_2011.predict(X_2011)\n",
    "\n",
    "gmm_2012 = GaussianMixture(n_components=2).fit(X_2012)\n",
    "labels_2012 = gmm_2012.predict(X_2012)\n",
    "\n",
    "gmm_2013 = GaussianMixture(n_components=2).fit(X_2013)\n",
    "labels_2013 = gmm_2013.predict(X_2013)\n",
    "\n",
    "gmm_2014 = GaussianMixture(n_components=2).fit(X_2014)\n",
    "labels_2014 = gmm_2014.predict(X_2014)\n",
    "\n",
    "gmm_2015 = GaussianMixture(n_components=2).fit(X_2015)\n",
    "labels_2015 = gmm_2015.predict(X_2015)"
   ]
  },
  {
   "cell_type": "code",
   "execution_count": 14,
   "metadata": {},
   "outputs": [],
   "source": [
    "cluster = pd.DataFrame({'Country': y_2000,\n",
    "                        '2000': labels_2000,\n",
    "                        '2005': labels_2005,\n",
    "                        '2010': labels_2010,\n",
    "                        '2011': labels_2011,\n",
    "                        '2012': labels_2012,\n",
    "                        '2013': labels_2013,\n",
    "                        '2014': labels_2014,\n",
    "                        '2015': labels_2015\n",
    "                       })"
   ]
  },
  {
   "cell_type": "markdown",
   "metadata": {},
   "source": [
    "## # Save Cluster Result"
   ]
  },
  {
   "cell_type": "code",
   "execution_count": 15,
   "metadata": {},
   "outputs": [],
   "source": [
    "cluster.to_excel('cluster_result/clustering_result.xlsx', index=False)"
   ]
  },
  {
   "cell_type": "code",
   "execution_count": null,
   "metadata": {},
   "outputs": [],
   "source": []
  }
 ],
 "metadata": {
  "kernelspec": {
   "display_name": "Python 3",
   "language": "python",
   "name": "python3"
  },
  "language_info": {
   "codemirror_mode": {
    "name": "ipython",
    "version": 3
   },
   "file_extension": ".py",
   "mimetype": "text/x-python",
   "name": "python",
   "nbconvert_exporter": "python",
   "pygments_lexer": "ipython3",
   "version": "3.7.5"
  }
 },
 "nbformat": 4,
 "nbformat_minor": 2
}
